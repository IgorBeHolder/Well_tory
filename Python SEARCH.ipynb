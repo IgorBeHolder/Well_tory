{
 "cells": [
  {
   "cell_type": "markdown",
   "metadata": {},
   "source": [
    "# `Searching Notebooks for a Code Snippet`  \n",
    "From September 2022 I started learning Python online.\n",
    "Until everything is settled in my head,  \n",
    "I am faced with the need to search for my own code snippets among all this variety of information.  \n",
    "This piece of code will help you look up your Python notebooks.  \n",
    "It seems to me it's quicker than using a 'grep'.\n",
    "You can define a strict search logic or case sensitive one.  \n",
    "Hope it helps.  \n",
    "Enjoy)"
   ]
  },
  {
   "cell_type": "code",
   "execution_count": 11,
   "metadata": {},
   "outputs": [
    {
     "name": "stdout",
     "output_type": "stream",
     "text": [
      "Looking for: ['kwarg', 'arg'] in ../**/*.ipynb files\n",
      "Incl. all occurrences: True\n",
      "Case sensetive       : False\n",
      "\n",
      "File:                                                 :  Search result:\n",
      "................................................................................\n",
      "../Netlogy/Netology Pandas_JOIN_HW.ipynb              : kwargs)\\u001b[0m\\n\\u, argins= True)\\n\",\n",
      "  , \n",
      "../Netlogy/Netology stats_Practice_AB.ipynb           : kwargs)\\u001b[0m\\n\\u, ArGxood2bfzwQ9mSRXp9, \n",
      "../Netlogy/Python SEARCH.ipynb                        : kwarg', 'arg'] in .., arg', 'arg'] in ../*, \n",
      "../Netlogy/Netology Pandas_basics.ipynb               : kwargs)\\u001b[0m\\n\\u, args, **kw)\\u001b[0m, \n",
      "../Netlogy/Netology Python CLASSES.ipynb              : kwargs):\\n\",\"       , args, **kwargs):\\n\",, \n",
      "../Netlogy/Netology python open files.ipynb           : kwargs)\\u001b[0m\\n\\u, args, **kwargs)\\u001, \n",
      "../Netlogy/Netology Pandas_JOIN_SQL_HW .ipynb         : kwargs)\\u001b[0m\\n\\u, arguments.<locals>.d, \n",
      "../Netlogy/Netology Python  FUNCTIONS DICTS_sorting args  kwargs.ipynb    : kwargs\\n\",\"Иногда во, args\\n\",\"2.   Вспомн, \n",
      "../Netlogy/Python_Tricks.ipynb                        : kwargs.ipynb\\n\",\"Net, argument.\\n\",\"\\n\",\"f, \n",
      "../Netlogy/Netology stats_t-Tests.ipynb               : kwaRgu3btDMugEpdjEHc, arginals of the resu, \n",
      "../Netlogy/Python Decorator.ipynb                     : kwargs):            , args, **kwargs):    , \n"
     ]
    }
   ],
   "source": [
    "import glob\n",
    "\n",
    "# !ls  # look around\n",
    "\n",
    "# pattern = '../../**/*.ipynb'  # two levels up in the directory hierarchy \n",
    "pattern = '../**/*.ipynb'       # one levels up in the directory hierarchy \n",
    "# pattern = '*.ipynb'           # current directory\n",
    "\n",
    "all_occurs = True   # search logic:  and  or\n",
    "case_sens = False   # case sensetive search\n",
    "res_length = 20\n",
    "\n",
    "inq = input('Input search strings separated by whitespace:').split()\n",
    "# inq = ['kwarg','arg']\n",
    "print(f'Looking for: {inq} in {pattern} files\\nIncl. all occurrences: {all_occurs}')\n",
    "print(f'Case sensetive       : {case_sens}\\n')\n",
    "print('File:',\" \"*47,\":  Search result:\")\n",
    "print(\".\"*80)\n",
    "\n",
    "for filepath in glob.iglob(pattern, recursive=True): # recursive= True: include subfolders\n",
    "\n",
    "    with open(filepath, encoding='UTF-8') as file:\n",
    "\n",
    "        s = file.read()\n",
    "        chunk = ''\n",
    "        for search_str in inq:\n",
    "            if case_sens:\n",
    "                ind = s.find( search_str )\n",
    "            else:\n",
    "                ind = s.lower().find( search_str.lower() )\n",
    "\n",
    "            found = ( ind != -1 ) \n",
    "            if found:\n",
    "                chunk +=  (s[ind:ind + res_length]) + \", \"\n",
    "            if (not found) and all_occurs:\n",
    "                break       \n",
    "            \n",
    "                     \n",
    "        if found:\n",
    "            print(filepath.ljust(50),\" \"*3 + \":\", chunk)"
   ]
  },
  {
   "cell_type": "code",
   "execution_count": 2,
   "metadata": {},
   "outputs": [],
   "source": [
    "# data = pd.read_csv('/Users/velo1/SynologyDrive/GIT_syno/data/video_games_sales.csv')\n",
    "# data.head()"
   ]
  }
 ],
 "metadata": {
  "kernelspec": {
   "display_name": "Python 3.10.5 64-bit",
   "language": "python",
   "name": "python3"
  },
  "language_info": {
   "codemirror_mode": {
    "name": "ipython",
    "version": 3
   },
   "file_extension": ".py",
   "mimetype": "text/x-python",
   "name": "python",
   "nbconvert_exporter": "python",
   "pygments_lexer": "ipython3",
   "version": "3.10.5"
  },
  "orig_nbformat": 4,
  "vscode": {
   "interpreter": {
    "hash": "aee8b7b246df8f9039afb4144a1f6fd8d2ca17a180786b69acc140d282b71a49"
   }
  }
 },
 "nbformat": 4,
 "nbformat_minor": 2
}
