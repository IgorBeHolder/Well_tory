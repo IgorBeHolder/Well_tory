{
 "cells": [
  {
   "cell_type": "markdown",
   "metadata": {},
   "source": [
    "# `Searching Notebooks for a Code Snippet`  \n",
    "From September 2022 I started learning Python online.\n",
    "Until everything is settled in my head,  \n",
    "I am faced with the need to search for my own code snippets among all this variety of information.  \n",
    "This piece of code will help you look up your Python notebooks.  \n",
    "It seems to me it's quicker than using a 'grep'.\n",
    "You can define a strict search logic or case sensitive one.  \n",
    "Hope it helps.  \n",
    "Enjoy)"
   ]
  },
  {
   "cell_type": "code",
   "execution_count": 1,
   "metadata": {},
   "outputs": [
    {
     "name": "stdout",
     "output_type": "stream",
     "text": [
      "Looking for: ['well'] in ../**/*.ipynb files\n",
      "Incl. all occurrences: True\n",
      "Case sensetive       : False\n",
      "\n",
      "File:                                                 :  Search result:\n",
      "................................................................................\n",
      "../Mac/Netology/Netology_Pandas_JOIN_HW.ipynb         : Welltory\\\\requiremen, \n",
      "../Mac/Netology/Netology_Python_FILES_Read_Write_and_pip_JSON.ipynb    : Welltory\\n\"]}],\"sour, \n",
      "../Mac/Netology/Netology_stats_case_study_Darwinbooks_recommend.ipynb    : well',\\n\",\" 'many',\\, \n",
      "../Mac/Netology/Netology_Pandas_PIVOT_and_PYMYSTEM.ipynb    : Welltory\\n\"\n",
      "     ]\n",
      " , \n",
      "../Mac/Netology/Netology_math_Numpy_Matrix.ipynb      : wElLS1NAwcOVFhYmCIjI, \n",
      "../Mac/Netology/DLS_simpsons_baseline.ipynb           : WELlGsEFWhUQyHEaoSVK, \n",
      "../Mac/Netology/Netology_stats_Confidential_intervals_HW.ipynb    : WeLLL78sdUiSMplM4urV, \n",
      "../Mac/Netology/Netology_Pandas_JOIN_SQL_HW_.ipynb    : Welltory\\\\data_for_t, \n",
      "../Mac/Netology/Netology_stats_t_Tests.ipynb          : welLVOurWveK52EtUo2W, \n",
      "../Mac/Netology/Netology_REGEX_practice.ipynb         : WeLL/ogSa+a7Np08Zq/f, \n",
      "../Mac/Netology/Netology_stats_Data_Visualization_HW.ipynb    : Weller – Copper Box , \n",
      "../Mac/Netology/Netology_stats_A_B_testing_HW.ipynb    : wellfiwtBL7uR/C18qJt, \n",
      "../Mac/Netology/ABD_22_Total_HW.ipynb                 : wELlxSyNj4GJdffRHpWa, \n",
      "../Mac/Netology/MathPlotLib_VIZ.ipynb                 : WElLCE4HuNCwmwzLoUpf, \n",
      "../Mac/Netology/Netology_Pandas_HW_funcs_group.ipynb    : Welltory\\\\data_for_t, \n",
      "../Mac/Netology/Netology_math_LA_HW_7.ipynb           : well', 'CG', 'BFGS',, \n",
      "../Well_tory/walkings.ipynb                           : Welltory - Data Anal, \n",
      "../ipynb PC/Netlogy/Netology Pandas_JOIN_HW.ipynb     : Welltory\\\\requiremen, \n",
      "../ipynb PC/Netlogy/PYTHON MathPlotLib VIZ.ipynb      : WElLCE4HuNCwmwzLoUpf, \n",
      "../ipynb PC/Netlogy/Netology Pandas_PIVOT_and_PYMYSTEM.ipynb    : Welltory\\n\"\n",
      "     ]\n",
      " , \n",
      "../ipynb PC/Netlogy/Netology python open files.ipynb    : Welltory\\n\"]}],\"sour, \n",
      "../ipynb PC/Netlogy/ABD-22 Total HW.ipynb             : wELlxSyNj4GJdffRHpWa, \n",
      "../ipynb PC/Netlogy/Netology Pandas_JOIN_SQL_HW .ipynb    : Welltory\\\\data_for_t, \n",
      "../ipynb PC/Netlogy/Netology_REGEX_practice.ipynb     : WeLL/ogSa+a7Np08Zq/f, \n",
      "../ipynb PC/Netlogy/DLS  simpsons_baseline.ipynb      : WELlGsEFWhUQyHEaoSVK, \n",
      "../ipynb PC/Netlogy/Netology_Python_FILES Read-Write_and_pip JSON.ipynb    : Welltory\\n\"]}],\"sour, \n",
      "../ipynb PC/Netlogy/Netology Pandas HW funcs group.ipynb    : Welltory\\\\data_for_t, \n",
      "../ipynb PC/Netlogy/Python PARSING.ipynb              : welli\\\\n'\\n\",\n",
      "      , \n",
      "../ipynb arch/Netology Pandas_JOIN_HW.ipynb           : Welltory\\\\requiremen, \n",
      "../ipynb arch/Python MathPlotLib VIZ.ipynb            : WElLCE4HuNCwmwzLoUpf, \n",
      "../ipynb arch/Netology Pandas_PIVOT_and_PYMYSTEM.ipynb    : Welltory\\n\"\n",
      "     ]\n",
      " , \n",
      "../ipynb arch/Netology python open files.ipynb        : Welltory\\n\"]}],\"sour, \n",
      "../ipynb arch/ABD-22 Total HW.ipynb                   : wELlxSyNj4GJdffRHpWa, \n",
      "../ipynb arch/Netology Pandas_JOIN_SQL_HW .ipynb      : Welltory\\\\data_for_t, \n",
      "../ipynb arch/Netology_REGEX_practice.ipynb           : WeLL/ogSa+a7Np08Zq/f, \n",
      "../ipynb arch/DLS  simpsons_baseline.ipynb            : WELlGsEFWhUQyHEaoSVK, \n",
      "../ipynb arch/Netology_Python_FILES Read-Write_and_pip JSON.ipynb    : Welltory\\n\"]}],\"sour, \n",
      "../ipynb arch/Netology Pandas HW funcs group.ipynb    : Welltory\\\\data_for_t, \n",
      "../ipynb arch/Python PARSING.ipynb                    : welli\\\\n'\\n\",\n",
      "      , \n"
     ]
    }
   ],
   "source": [
    "import glob\n",
    "\n",
    "# !ls  # look around\n",
    "\n",
    "# pattern = '../../**/*.ipynb'  # two levels up in the directory hierarchy \n",
    "pattern = '../**/*.ipynb'       # one levels up in the directory hierarchy \n",
    "# pattern = '*.ipynb'           # current directory\n",
    "\n",
    "all_occurs = True   # search logic:  and  or\n",
    "case_sens = False   # case sensetive search\n",
    "res_length = 20\n",
    "\n",
    "inq = input('Input search strings separated by whitespace:').split()\n",
    "# inq = ['kwarg','arg']\n",
    "print(f'Looking for: {inq} in {pattern} files\\nIncl. all occurrences: {all_occurs}')\n",
    "print(f'Case sensetive       : {case_sens}\\n')\n",
    "print('File:',\" \"*47,\":  Search result:\")\n",
    "print(\".\"*80)\n",
    "\n",
    "for filepath in glob.iglob(pattern, recursive=True): # recursive= True: include subfolders\n",
    "\n",
    "    with open(filepath, encoding='UTF-8') as file:\n",
    "\n",
    "        s = file.read()\n",
    "        chunk = ''\n",
    "        for search_str in inq:\n",
    "            if case_sens:\n",
    "                ind = s.find( search_str )\n",
    "            else:\n",
    "                ind = s.lower().find( search_str.lower() )\n",
    "\n",
    "            found = ( ind != -1 ) \n",
    "            if found:\n",
    "                chunk +=  (s[ind:ind + res_length]) + \", \"\n",
    "            if (not found) and all_occurs:\n",
    "                break       \n",
    "            \n",
    "                     \n",
    "        if found:\n",
    "            print(filepath.ljust(50),\" \"*3 + \":\", chunk)"
   ]
  },
  {
   "cell_type": "code",
   "execution_count": 2,
   "metadata": {},
   "outputs": [],
   "source": [
    "# data = pd.read_csv('/Users/velo1/SynologyDrive/GIT_syno/data/video_games_sales.csv')\n",
    "# data.head()"
   ]
  }
 ],
 "metadata": {
  "kernelspec": {
   "display_name": "base",
   "language": "python",
   "name": "python3"
  },
  "language_info": {
   "codemirror_mode": {
    "name": "ipython",
    "version": 3
   },
   "file_extension": ".py",
   "mimetype": "text/x-python",
   "name": "python",
   "nbconvert_exporter": "python",
   "pygments_lexer": "ipython3",
   "version": "3.9.13"
  },
  "orig_nbformat": 4,
  "vscode": {
   "interpreter": {
    "hash": "3f0fc0265faf3f010b6ea13d4d06fa8f6d9bd8f9a0a69886dc52220c62e8c74f"
   }
  }
 },
 "nbformat": 4,
 "nbformat_minor": 2
}
