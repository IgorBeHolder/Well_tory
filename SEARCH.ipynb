{
 "cells": [
  {
   "cell_type": "markdown",
   "metadata": {},
   "source": [
    "# `Searching Notebooks for a Code Snippet`  \n",
    "From September 2022 I started learning Python online.\n",
    "Until everything is settled in my head,  \n",
    "I am faced with the need to search for my own code snippets among all this variety of information.  \n",
    "This piece of code will help you look up your Python notebooks.  \n",
    "It seems to me it's quicker than using a 'grep'.\n",
    "You can define a strict search logic or case sensetive one.  \n",
    "Hope it helps.  \n",
    "Enjoy)"
   ]
  },
  {
   "cell_type": "code",
   "execution_count": 1,
   "metadata": {},
   "outputs": [
    {
     "name": "stdout",
     "output_type": "stream",
     "text": [
      "Looking for: ['well'] in *.ipynb files\n",
      "Incl. all occurrences: True\n",
      "Case sensitive: False\n",
      "File:          : Search result:\n",
      "................................................................................\n",
      "/Users/velo1/SynologyDrive/GIT_syno/Well_tory/walkings.ipynb\n",
      "               : Welltory - Data Anal, \n"
     ]
    }
   ],
   "source": [
    "import glob\n",
    "import os\n",
    "\n",
    "# Search pattern: one level up in the directory hierarchy\n",
    "# pattern = '../**/*.ipynb'\n",
    "pattern = '*.ipynb'\n",
    "\n",
    "# search in current working directory\n",
    "dir_path = os.getcwd()\n",
    "\n",
    "# Search logic: All occurrences must be found\n",
    "all_occurs = True\n",
    "\n",
    "# Case sensitive search\n",
    "case_sens = False\n",
    "\n",
    "# Result length\n",
    "res_length = 20\n",
    "\n",
    "# Search strings\n",
    "# inq = ['kwarg', 'arg']\n",
    "inq = input('Input search strings separated by whitespace:').split()\n",
    "\n",
    "# Print search information\n",
    "print(f'Looking for: {inq} in {pattern} files')\n",
    "print(f'Incl. all occurrences: {all_occurs}')\n",
    "print(f'Case sensitive: {case_sens}')\n",
    "print('File:', \" \"*8, ': Search result:')\n",
    "print('.'*80)\n",
    "\n",
    "for filepath in glob.iglob(pattern, recursive=True): # recursive= True: include subfolders\n",
    "\n",
    "    with open(filepath, encoding='UTF-8') as file:\n",
    "\n",
    "        s = file.read()\n",
    "        chunk = ''\n",
    "        for search_str in inq:\n",
    "            if case_sens:\n",
    "                ind = s.find( search_str )\n",
    "            else:\n",
    "                ind = s.lower().find( search_str.lower() )\n",
    "\n",
    "            found = ( ind != -1 ) \n",
    "            \n",
    "            # Concatenate the chunks and print the result if any chunks were found\n",
    "            if found:\n",
    "                chunk +=  (s[ind:ind + res_length]) + \", \"\n",
    "            if (not found) and all_occurs:\n",
    "                break       \n",
    "            \n",
    "                     \n",
    "        if found:\n",
    "            # print(dir_path + '/' + filepath.ljust(50),\" \"*3 + \":\", chunk)\n",
    "            print(dir_path + '/' + filepath +\"\\n\" + \" \"*15 + \":\", chunk)"
   ]
  },
  {
   "cell_type": "code",
   "execution_count": 2,
   "metadata": {},
   "outputs": [],
   "source": [
    "# data = pd.read_csv('/Users/velo1/SynologyDrive/GIT_syno/data/video_games_sales.csv')\n",
    "# data.head()"
   ]
  },
  {
   "attachments": {},
   "cell_type": "markdown",
   "metadata": {},
   "source": [
    "#### `Renaming files in a folder`"
   ]
  },
  {
   "cell_type": "code",
   "execution_count": 10,
   "metadata": {},
   "outputs": [],
   "source": [
    "import os\n",
    "\n",
    "def rename_files_in_dir(dir_path):\n",
    "    for count, filename in enumerate(os.listdir(dir_path)):\n",
    "        new_filename = filename.replace(\"._\", \"_\")\n",
    "        # dst = \"file_\" + str(count) + \".ext\"\n",
    "        src = dir_path + '/' + filename\n",
    "        dst = dir_path + '/' + new_filename\n",
    "        \n",
    "        # rename() function will rename all the files \n",
    "        os.rename(src, dst)\n",
    "\n",
    "\n",
    "# rename_files_in_dir(\"path/to/dir\")\n",
    "\n",
    "# rename all files in current folder\n",
    "# rename_files_in_dir( os.getcwd() )"
   ]
  }
 ],
 "metadata": {
  "kernelspec": {
   "display_name": "base",
   "language": "python",
   "name": "python3"
  },
  "language_info": {
   "codemirror_mode": {
    "name": "ipython",
    "version": 3
   },
   "file_extension": ".py",
   "mimetype": "text/x-python",
   "name": "python",
   "nbconvert_exporter": "python",
   "pygments_lexer": "ipython3",
   "version": "3.9.13"
  },
  "orig_nbformat": 4,
  "vscode": {
   "interpreter": {
    "hash": "3f0fc0265faf3f010b6ea13d4d06fa8f6d9bd8f9a0a69886dc52220c62e8c74f"
   }
  }
 },
 "nbformat": 4,
 "nbformat_minor": 2
}
