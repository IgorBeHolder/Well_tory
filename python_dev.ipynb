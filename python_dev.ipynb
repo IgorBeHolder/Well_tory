{
 "cells": [
  {
   "cell_type": "code",
   "execution_count": 1,
   "metadata": {},
   "outputs": [],
   "source": [
    "from datetime import datetime\n",
    "from typing import List, Dict\n",
    "import numpy as np\n",
    "\n",
    "\n",
    "# Calculate the maximum size of a DynamoDB item (4 KB)\n",
    "max_item_size = 4096\n",
    "\n",
    "# Calculate the number of elements that can fit in an item\n",
    "# 13 bytes for other attributes (5 -\"u\", 5 -\"t\", 3 - \"v\")\n",
    "# 3 bytes for each element of the \"v\" attribute\n",
    "max_elements = (max_item_size - 13) // 3   \n",
    "\n",
    "# Calculate the number of subsegments needed\n",
    "num_subsegments = 8656 // max_item_size + 1 \n",
    "\n",
    "def convert_to_dynamodb_documents(user_id: int, day: datetime.date, activity_scores: List[int]) -> List[Dict]:\n",
    "    '''Convert activity scores to DynamoDB documents\n",
    "    Args:\n",
    "        user_id: user ID (from 1 to 1000000)\n",
    "        day: datetime.day object for which the activity scores are segmented\n",
    "        activity_scores: List of activity scores of fixed length (2880)\n",
    "    Returns:\n",
    "        dynamodb_documents: List of DynamoDB documents (JSON dictionaries)\n",
    "    '''\n",
    "    # Initialize an empty list to store JSON dictionaries\n",
    "    dynamodb_documents = []\n",
    "\n",
    "    # convert datetime.date object to Unix\n",
    "    day = int(day.strftime(\"%s\"))\n",
    "\n",
    "    # Iterate through subsegments\n",
    "    for subsegment_idx in range(num_subsegments):\n",
    "        # Calculate the start and end indices for the subsegment\n",
    "        start_idx = subsegment_idx * max_elements\n",
    "        end_idx = min((subsegment_idx + 1) * max_elements, len(activity_scores))\n",
    "        \n",
    "        # Get the activity scores for the subsegment\n",
    "        subsegment_scores = activity_scores[start_idx:end_idx]\n",
    "        \n",
    "        # Calculate the timestamp for the subsegment\n",
    "        subsegment_timestamp = day + start_idx * 30\n",
    "        \n",
    "        # Create a dictionary for the subsegment\n",
    "        subsegment_dict = {\n",
    "            \"u\": user_id,\n",
    "            \"t\": subsegment_timestamp,  # Unix timestamp\n",
    "            \"v\": subsegment_scores\n",
    "        }\n",
    "        \n",
    "        # Append the subsegment dictionary to the list\n",
    "        dynamodb_documents.append(subsegment_dict)\n",
    "    \n",
    "    return dynamodb_documents\n"
   ]
  },
  {
   "cell_type": "code",
   "execution_count": 2,
   "metadata": {},
   "outputs": [],
   "source": [
    "# convert unix to date\n",
    "def unix_to_date(unix):\n",
    "    return datetime.fromtimestamp(unix).strftime('%Y.%m.%d %H:%M:%S')"
   ]
  },
  {
   "cell_type": "code",
   "execution_count": 3,
   "metadata": {},
   "outputs": [
    {
     "name": "stdout",
     "output_type": "stream",
     "text": [
      "153341 1694120400 1361\n",
      "153341 1694161230 1361\n",
      "153341 1694202060 158\n"
     ]
    }
   ],
   "source": [
    "user_id = np.random.randint(0, 1000000) # user_id\n",
    "input_date_str  = '2023.09.08'\n",
    "input_date = datetime.strptime(input_date_str, '%Y.%m.%d').date()\n",
    "act_sc = [el for el in np.random.randint(0, 100, 2880)]    # activity scores\n",
    "\n",
    "dynamodb_documents = convert_to_dynamodb_documents(user_id=user_id, day=input_date, activity_scores=act_sc)\n",
    "for dict_ in dynamodb_documents:\n",
    "    print(dict_['u'], dict_['t'], len(dict_['v']))"
   ]
  },
  {
   "cell_type": "code",
   "execution_count": 4,
   "metadata": {},
   "outputs": [
    {
     "name": "stdout",
     "output_type": "stream",
     "text": [
      "2023.09.08 00:00:00 1361\n",
      "2023.09.08 11:20:30 1361\n",
      "2023.09.08 22:41:00 158\n"
     ]
    }
   ],
   "source": [
    "for el in dynamodb_documents:\n",
    "    print(unix_to_date(el['t']), len(el['v']))"
   ]
  }
 ],
 "metadata": {
  "kernelspec": {
   "display_name": "Python 3",
   "language": "python",
   "name": "python3"
  },
  "language_info": {
   "codemirror_mode": {
    "name": "ipython",
    "version": 3
   },
   "file_extension": ".py",
   "mimetype": "text/x-python",
   "name": "python",
   "nbconvert_exporter": "python",
   "pygments_lexer": "ipython3",
   "version": "3.9.6"
  },
  "orig_nbformat": 4
 },
 "nbformat": 4,
 "nbformat_minor": 2
}
